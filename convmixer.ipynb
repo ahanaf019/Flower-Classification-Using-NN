{
 "cells": [
  {
   "cell_type": "code",
   "execution_count": 1,
   "metadata": {},
   "outputs": [
    {
     "name": "stdout",
     "output_type": "stream",
     "text": [
      "fwr13y.d9m.tensorflow.enable_determinism (version 0.6.0) has been applied to TensorFlow version 2.11.0\n"
     ]
    },
    {
     "data": {
      "text/plain": [
       "[PhysicalDevice(name='/physical_device:GPU:0', device_type='GPU')]"
      ]
     },
     "execution_count": 1,
     "metadata": {},
     "output_type": "execute_result"
    }
   ],
   "source": [
    "import os\n",
    "os.environ['TF_CPP_MIN_LOG_LEVEL'] = '3' \n",
    "\n",
    "import tensorflow as tf\n",
    "from tensorflow import keras\n",
    "import cv2\n",
    "from glob import glob\n",
    "import numpy as np\n",
    "import pandas as pd\n",
    "import seaborn as sns\n",
    "import matplotlib.pyplot as plt\n",
    "\n",
    "import fwr13y.d9m.tensorflow as tf_determinism\n",
    "tf.keras.utils.set_random_seed(1)\n",
    "tf_determinism.enable_determinism()\n",
    "\n",
    "tf.config.experimental.list_physical_devices('GPU')"
   ]
  },
  {
   "cell_type": "code",
   "execution_count": 2,
   "metadata": {},
   "outputs": [
    {
     "name": "stdout",
     "output_type": "stream",
     "text": [
      "Found 4999 files belonging to 5 classes.\n",
      "Using 4000 files for training.\n",
      "Using 999 files for validation.\n"
     ]
    }
   ],
   "source": [
    "image_shape = (224, 224)\n",
    "num_classes = 5\n",
    "batch_size = 10\n",
    "\n",
    "train_data, val_data = keras.utils.image_dataset_from_directory(\n",
    "    'flower_images', \n",
    "    batch_size=batch_size, \n",
    "    image_size=image_shape, \n",
    "    label_mode='categorical', \n",
    "    seed=225, \n",
    "    validation_split= 0.2, \n",
    "    subset='both'\n",
    "    )"
   ]
  },
  {
   "cell_type": "code",
   "execution_count": 3,
   "metadata": {},
   "outputs": [],
   "source": [
    "data_augmentation = keras.Sequential([\n",
    "    keras.layers.Rescaling(scale=1./255.0, offset=0),\n",
    "    keras.layers.RandomFlip(),\n",
    "    keras.layers.RandomRotation(0.20)\n",
    "])"
   ]
  },
  {
   "cell_type": "code",
   "execution_count": 4,
   "metadata": {},
   "outputs": [],
   "source": [
    "def ConvMixer(dim: int, patch_size: int, depth: int, kernel_size: int, num_classes: int):\n",
    "    \n",
    "    input = keras.Input(shape=image_shape + (3,))\n",
    "    \n",
    "    input = data_augmentation(input)\n",
    "    x = keras.layers.Conv2D(filters=dim, kernel_size=patch_size, strides=patch_size)(input)\n",
    "    x = keras.layers.Activation('gelu')(x)\n",
    "    x1 = keras.layers.BatchNormalization()(x)\n",
    "    \n",
    "    for i in range(depth):\n",
    "        x = keras.layers.DepthwiseConv2D(kernel_size=kernel_size, padding=\"same\")(x1)\n",
    "        # x = keras.layers.Conv2D(filters=dim, kernel_size=kernel_size, padding='same', groups=dim, activation='gelu')(x1)\n",
    "        x = keras.layers.Activation('gelu')(x)\n",
    "        x = keras.layers.BatchNormalization()(x)\n",
    "        x = keras.layers.add([x1, x])\n",
    "        \n",
    "        x = keras.layers.Conv2D(filters=dim, kernel_size=1)(x)\n",
    "        x = keras.layers.Activation('gelu')(x)\n",
    "        x1 = keras.layers.BatchNormalization()(x)\n",
    "    \n",
    "    x = keras.layers.GlobalAvgPool2D()(x1)\n",
    "    x = keras.layers.Flatten()(x)\n",
    "    output = keras.layers.Dense(units=num_classes, activation='softmax')(x)\n",
    "    \n",
    "    \n",
    "    return keras.Model(input, output)"
   ]
  },
  {
   "cell_type": "code",
   "execution_count": 5,
   "metadata": {},
   "outputs": [
    {
     "name": "stdout",
     "output_type": "stream",
     "text": [
      "WARNING:tensorflow:Using a while_loop for converting RngReadAndSkip cause there is no registered converter for this op.\n",
      "WARNING:tensorflow:Using a while_loop for converting Bitcast cause there is no registered converter for this op.\n",
      "WARNING:tensorflow:Using a while_loop for converting Bitcast cause there is no registered converter for this op.\n",
      "WARNING:tensorflow:Using a while_loop for converting StatelessRandomUniformV2 cause there is no registered converter for this op.\n",
      "WARNING:tensorflow:Using a while_loop for converting ImageProjectiveTransformV3 cause there is no registered converter for this op.\n",
      "WARNING:tensorflow:Using a while_loop for converting RngReadAndSkip cause there is no registered converter for this op.\n",
      "WARNING:tensorflow:Using a while_loop for converting Bitcast cause there is no registered converter for this op.\n",
      "WARNING:tensorflow:Using a while_loop for converting Bitcast cause there is no registered converter for this op.\n",
      "WARNING:tensorflow:Using a while_loop for converting StatelessRandomUniformV2 cause there is no registered converter for this op.\n",
      "WARNING:tensorflow:Using a while_loop for converting ImageProjectiveTransformV3 cause there is no registered converter for this op.\n"
     ]
    }
   ],
   "source": [
    "model = ConvMixer(dim=512, depth=12, patch_size=7, kernel_size=8, num_classes=5)"
   ]
  },
  {
   "cell_type": "code",
   "execution_count": 6,
   "metadata": {},
   "outputs": [
    {
     "name": "stdout",
     "output_type": "stream",
     "text": [
      "Model: \"model\"\n",
      "__________________________________________________________________________________________________\n",
      " Layer (type)                   Output Shape         Param #     Connected to                     \n",
      "==================================================================================================\n",
      " input_2 (InputLayer)           [(None, 224, 224, 3  0           []                               \n",
      "                                )]                                                                \n",
      "                                                                                                  \n",
      " conv2d (Conv2D)                (None, 32, 32, 512)  75776       ['input_2[0][0]']                \n",
      "                                                                                                  \n",
      " activation (Activation)        (None, 32, 32, 512)  0           ['conv2d[1][0]']                 \n",
      "                                                                                                  \n",
      " batch_normalization (BatchNorm  (None, 32, 32, 512)  2048       ['activation[1][0]']             \n",
      " alization)                                                                                       \n",
      "                                                                                                  \n",
      " depthwise_conv2d (DepthwiseCon  (None, 32, 32, 512)  33280      ['batch_normalization[1][0]']    \n",
      " v2D)                                                                                             \n",
      "                                                                                                  \n",
      " activation_1 (Activation)      (None, 32, 32, 512)  0           ['depthwise_conv2d[1][0]']       \n",
      "                                                                                                  \n",
      " batch_normalization_1 (BatchNo  (None, 32, 32, 512)  2048       ['activation_1[1][0]']           \n",
      " rmalization)                                                                                     \n",
      "                                                                                                  \n",
      " add (Add)                      (None, 32, 32, 512)  0           ['batch_normalization[1][0]',    \n",
      "                                                                  'batch_normalization_1[1][0]']  \n",
      "                                                                                                  \n",
      " conv2d_1 (Conv2D)              (None, 32, 32, 512)  262656      ['add[1][0]']                    \n",
      "                                                                                                  \n",
      " activation_2 (Activation)      (None, 32, 32, 512)  0           ['conv2d_1[1][0]']               \n",
      "                                                                                                  \n",
      " batch_normalization_2 (BatchNo  (None, 32, 32, 512)  2048       ['activation_2[1][0]']           \n",
      " rmalization)                                                                                     \n",
      "                                                                                                  \n",
      " depthwise_conv2d_1 (DepthwiseC  (None, 32, 32, 512)  33280      ['batch_normalization_2[1][0]']  \n",
      " onv2D)                                                                                           \n",
      "                                                                                                  \n",
      " activation_3 (Activation)      (None, 32, 32, 512)  0           ['depthwise_conv2d_1[1][0]']     \n",
      "                                                                                                  \n",
      " batch_normalization_3 (BatchNo  (None, 32, 32, 512)  2048       ['activation_3[1][0]']           \n",
      " rmalization)                                                                                     \n",
      "                                                                                                  \n",
      " add_1 (Add)                    (None, 32, 32, 512)  0           ['batch_normalization_2[1][0]',  \n",
      "                                                                  'batch_normalization_3[1][0]']  \n",
      "                                                                                                  \n",
      " conv2d_2 (Conv2D)              (None, 32, 32, 512)  262656      ['add_1[1][0]']                  \n",
      "                                                                                                  \n",
      " activation_4 (Activation)      (None, 32, 32, 512)  0           ['conv2d_2[1][0]']               \n",
      "                                                                                                  \n",
      " batch_normalization_4 (BatchNo  (None, 32, 32, 512)  2048       ['activation_4[1][0]']           \n",
      " rmalization)                                                                                     \n",
      "                                                                                                  \n",
      " depthwise_conv2d_2 (DepthwiseC  (None, 32, 32, 512)  33280      ['batch_normalization_4[1][0]']  \n",
      " onv2D)                                                                                           \n",
      "                                                                                                  \n",
      " activation_5 (Activation)      (None, 32, 32, 512)  0           ['depthwise_conv2d_2[1][0]']     \n",
      "                                                                                                  \n",
      " batch_normalization_5 (BatchNo  (None, 32, 32, 512)  2048       ['activation_5[1][0]']           \n",
      " rmalization)                                                                                     \n",
      "                                                                                                  \n",
      " add_2 (Add)                    (None, 32, 32, 512)  0           ['batch_normalization_4[1][0]',  \n",
      "                                                                  'batch_normalization_5[1][0]']  \n",
      "                                                                                                  \n",
      " conv2d_3 (Conv2D)              (None, 32, 32, 512)  262656      ['add_2[1][0]']                  \n",
      "                                                                                                  \n",
      " activation_6 (Activation)      (None, 32, 32, 512)  0           ['conv2d_3[1][0]']               \n",
      "                                                                                                  \n",
      " batch_normalization_6 (BatchNo  (None, 32, 32, 512)  2048       ['activation_6[1][0]']           \n",
      " rmalization)                                                                                     \n",
      "                                                                                                  \n",
      " depthwise_conv2d_3 (DepthwiseC  (None, 32, 32, 512)  33280      ['batch_normalization_6[1][0]']  \n",
      " onv2D)                                                                                           \n",
      "                                                                                                  \n",
      " activation_7 (Activation)      (None, 32, 32, 512)  0           ['depthwise_conv2d_3[1][0]']     \n",
      "                                                                                                  \n",
      " batch_normalization_7 (BatchNo  (None, 32, 32, 512)  2048       ['activation_7[1][0]']           \n",
      " rmalization)                                                                                     \n",
      "                                                                                                  \n",
      " add_3 (Add)                    (None, 32, 32, 512)  0           ['batch_normalization_6[1][0]',  \n",
      "                                                                  'batch_normalization_7[1][0]']  \n",
      "                                                                                                  \n",
      " conv2d_4 (Conv2D)              (None, 32, 32, 512)  262656      ['add_3[1][0]']                  \n",
      "                                                                                                  \n",
      " activation_8 (Activation)      (None, 32, 32, 512)  0           ['conv2d_4[1][0]']               \n",
      "                                                                                                  \n",
      " batch_normalization_8 (BatchNo  (None, 32, 32, 512)  2048       ['activation_8[1][0]']           \n",
      " rmalization)                                                                                     \n",
      "                                                                                                  \n",
      " depthwise_conv2d_4 (DepthwiseC  (None, 32, 32, 512)  33280      ['batch_normalization_8[1][0]']  \n",
      " onv2D)                                                                                           \n",
      "                                                                                                  \n",
      " activation_9 (Activation)      (None, 32, 32, 512)  0           ['depthwise_conv2d_4[1][0]']     \n",
      "                                                                                                  \n",
      " batch_normalization_9 (BatchNo  (None, 32, 32, 512)  2048       ['activation_9[1][0]']           \n",
      " rmalization)                                                                                     \n",
      "                                                                                                  \n",
      " add_4 (Add)                    (None, 32, 32, 512)  0           ['batch_normalization_8[1][0]',  \n",
      "                                                                  'batch_normalization_9[1][0]']  \n",
      "                                                                                                  \n",
      " conv2d_5 (Conv2D)              (None, 32, 32, 512)  262656      ['add_4[1][0]']                  \n",
      "                                                                                                  \n",
      " activation_10 (Activation)     (None, 32, 32, 512)  0           ['conv2d_5[1][0]']               \n",
      "                                                                                                  \n",
      " batch_normalization_10 (BatchN  (None, 32, 32, 512)  2048       ['activation_10[1][0]']          \n",
      " ormalization)                                                                                    \n",
      "                                                                                                  \n",
      " depthwise_conv2d_5 (DepthwiseC  (None, 32, 32, 512)  33280      ['batch_normalization_10[1][0]'] \n",
      " onv2D)                                                                                           \n",
      "                                                                                                  \n",
      " activation_11 (Activation)     (None, 32, 32, 512)  0           ['depthwise_conv2d_5[1][0]']     \n",
      "                                                                                                  \n",
      " batch_normalization_11 (BatchN  (None, 32, 32, 512)  2048       ['activation_11[1][0]']          \n",
      " ormalization)                                                                                    \n",
      "                                                                                                  \n",
      " add_5 (Add)                    (None, 32, 32, 512)  0           ['batch_normalization_10[1][0]', \n",
      "                                                                  'batch_normalization_11[1][0]'] \n",
      "                                                                                                  \n",
      " conv2d_6 (Conv2D)              (None, 32, 32, 512)  262656      ['add_5[1][0]']                  \n",
      "                                                                                                  \n",
      " activation_12 (Activation)     (None, 32, 32, 512)  0           ['conv2d_6[1][0]']               \n",
      "                                                                                                  \n",
      " batch_normalization_12 (BatchN  (None, 32, 32, 512)  2048       ['activation_12[1][0]']          \n",
      " ormalization)                                                                                    \n",
      "                                                                                                  \n",
      " depthwise_conv2d_6 (DepthwiseC  (None, 32, 32, 512)  33280      ['batch_normalization_12[1][0]'] \n",
      " onv2D)                                                                                           \n",
      "                                                                                                  \n",
      " activation_13 (Activation)     (None, 32, 32, 512)  0           ['depthwise_conv2d_6[1][0]']     \n",
      "                                                                                                  \n",
      " batch_normalization_13 (BatchN  (None, 32, 32, 512)  2048       ['activation_13[1][0]']          \n",
      " ormalization)                                                                                    \n",
      "                                                                                                  \n",
      " add_6 (Add)                    (None, 32, 32, 512)  0           ['batch_normalization_12[1][0]', \n",
      "                                                                  'batch_normalization_13[1][0]'] \n",
      "                                                                                                  \n",
      " conv2d_7 (Conv2D)              (None, 32, 32, 512)  262656      ['add_6[1][0]']                  \n",
      "                                                                                                  \n",
      " activation_14 (Activation)     (None, 32, 32, 512)  0           ['conv2d_7[1][0]']               \n",
      "                                                                                                  \n",
      " batch_normalization_14 (BatchN  (None, 32, 32, 512)  2048       ['activation_14[1][0]']          \n",
      " ormalization)                                                                                    \n",
      "                                                                                                  \n",
      " depthwise_conv2d_7 (DepthwiseC  (None, 32, 32, 512)  33280      ['batch_normalization_14[1][0]'] \n",
      " onv2D)                                                                                           \n",
      "                                                                                                  \n",
      " activation_15 (Activation)     (None, 32, 32, 512)  0           ['depthwise_conv2d_7[1][0]']     \n",
      "                                                                                                  \n",
      " batch_normalization_15 (BatchN  (None, 32, 32, 512)  2048       ['activation_15[1][0]']          \n",
      " ormalization)                                                                                    \n",
      "                                                                                                  \n",
      " add_7 (Add)                    (None, 32, 32, 512)  0           ['batch_normalization_14[1][0]', \n",
      "                                                                  'batch_normalization_15[1][0]'] \n",
      "                                                                                                  \n",
      " conv2d_8 (Conv2D)              (None, 32, 32, 512)  262656      ['add_7[1][0]']                  \n",
      "                                                                                                  \n",
      " activation_16 (Activation)     (None, 32, 32, 512)  0           ['conv2d_8[1][0]']               \n",
      "                                                                                                  \n",
      " batch_normalization_16 (BatchN  (None, 32, 32, 512)  2048       ['activation_16[1][0]']          \n",
      " ormalization)                                                                                    \n",
      "                                                                                                  \n",
      " depthwise_conv2d_8 (DepthwiseC  (None, 32, 32, 512)  33280      ['batch_normalization_16[1][0]'] \n",
      " onv2D)                                                                                           \n",
      "                                                                                                  \n",
      " activation_17 (Activation)     (None, 32, 32, 512)  0           ['depthwise_conv2d_8[1][0]']     \n",
      "                                                                                                  \n",
      " batch_normalization_17 (BatchN  (None, 32, 32, 512)  2048       ['activation_17[1][0]']          \n",
      " ormalization)                                                                                    \n",
      "                                                                                                  \n",
      " add_8 (Add)                    (None, 32, 32, 512)  0           ['batch_normalization_16[1][0]', \n",
      "                                                                  'batch_normalization_17[1][0]'] \n",
      "                                                                                                  \n",
      " conv2d_9 (Conv2D)              (None, 32, 32, 512)  262656      ['add_8[1][0]']                  \n",
      "                                                                                                  \n",
      " activation_18 (Activation)     (None, 32, 32, 512)  0           ['conv2d_9[1][0]']               \n",
      "                                                                                                  \n",
      " batch_normalization_18 (BatchN  (None, 32, 32, 512)  2048       ['activation_18[1][0]']          \n",
      " ormalization)                                                                                    \n",
      "                                                                                                  \n",
      " depthwise_conv2d_9 (DepthwiseC  (None, 32, 32, 512)  33280      ['batch_normalization_18[1][0]'] \n",
      " onv2D)                                                                                           \n",
      "                                                                                                  \n",
      " activation_19 (Activation)     (None, 32, 32, 512)  0           ['depthwise_conv2d_9[1][0]']     \n",
      "                                                                                                  \n",
      " batch_normalization_19 (BatchN  (None, 32, 32, 512)  2048       ['activation_19[1][0]']          \n",
      " ormalization)                                                                                    \n",
      "                                                                                                  \n",
      " add_9 (Add)                    (None, 32, 32, 512)  0           ['batch_normalization_18[1][0]', \n",
      "                                                                  'batch_normalization_19[1][0]'] \n",
      "                                                                                                  \n",
      " conv2d_10 (Conv2D)             (None, 32, 32, 512)  262656      ['add_9[1][0]']                  \n",
      "                                                                                                  \n",
      " activation_20 (Activation)     (None, 32, 32, 512)  0           ['conv2d_10[1][0]']              \n",
      "                                                                                                  \n",
      " batch_normalization_20 (BatchN  (None, 32, 32, 512)  2048       ['activation_20[1][0]']          \n",
      " ormalization)                                                                                    \n",
      "                                                                                                  \n",
      " depthwise_conv2d_10 (Depthwise  (None, 32, 32, 512)  33280      ['batch_normalization_20[1][0]'] \n",
      " Conv2D)                                                                                          \n",
      "                                                                                                  \n",
      " activation_21 (Activation)     (None, 32, 32, 512)  0           ['depthwise_conv2d_10[1][0]']    \n",
      "                                                                                                  \n",
      " batch_normalization_21 (BatchN  (None, 32, 32, 512)  2048       ['activation_21[1][0]']          \n",
      " ormalization)                                                                                    \n",
      "                                                                                                  \n",
      " add_10 (Add)                   (None, 32, 32, 512)  0           ['batch_normalization_20[1][0]', \n",
      "                                                                  'batch_normalization_21[1][0]'] \n",
      "                                                                                                  \n",
      " conv2d_11 (Conv2D)             (None, 32, 32, 512)  262656      ['add_10[1][0]']                 \n",
      "                                                                                                  \n",
      " activation_22 (Activation)     (None, 32, 32, 512)  0           ['conv2d_11[1][0]']              \n",
      "                                                                                                  \n",
      " batch_normalization_22 (BatchN  (None, 32, 32, 512)  2048       ['activation_22[1][0]']          \n",
      " ormalization)                                                                                    \n",
      "                                                                                                  \n",
      " depthwise_conv2d_11 (Depthwise  (None, 32, 32, 512)  33280      ['batch_normalization_22[1][0]'] \n",
      " Conv2D)                                                                                          \n",
      "                                                                                                  \n",
      " activation_23 (Activation)     (None, 32, 32, 512)  0           ['depthwise_conv2d_11[1][0]']    \n",
      "                                                                                                  \n",
      " batch_normalization_23 (BatchN  (None, 32, 32, 512)  2048       ['activation_23[1][0]']          \n",
      " ormalization)                                                                                    \n",
      "                                                                                                  \n",
      " add_11 (Add)                   (None, 32, 32, 512)  0           ['batch_normalization_22[1][0]', \n",
      "                                                                  'batch_normalization_23[1][0]'] \n",
      "                                                                                                  \n",
      " conv2d_12 (Conv2D)             (None, 32, 32, 512)  262656      ['add_11[1][0]']                 \n",
      "                                                                                                  \n",
      " activation_24 (Activation)     (None, 32, 32, 512)  0           ['conv2d_12[1][0]']              \n",
      "                                                                                                  \n",
      " batch_normalization_24 (BatchN  (None, 32, 32, 512)  2048       ['activation_24[1][0]']          \n",
      " ormalization)                                                                                    \n",
      "                                                                                                  \n",
      " global_average_pooling2d (Glob  (None, 512)         0           ['batch_normalization_24[1][0]'] \n",
      " alAveragePooling2D)                                                                              \n",
      "                                                                                                  \n",
      " flatten (Flatten)              (None, 512)          0           ['global_average_pooling2d[1][0]'\n",
      "                                                                 ]                                \n",
      "                                                                                                  \n",
      " dense (Dense)                  (None, 5)            2565        ['flatten[1][0]']                \n",
      "                                                                                                  \n",
      "==================================================================================================\n",
      "Total params: 3,680,773\n",
      "Trainable params: 3,655,173\n",
      "Non-trainable params: 25,600\n",
      "__________________________________________________________________________________________________\n"
     ]
    }
   ],
   "source": [
    "model.summary()"
   ]
  },
  {
   "cell_type": "code",
   "execution_count": 7,
   "metadata": {},
   "outputs": [],
   "source": [
    "callbacks = [\n",
    "    keras.callbacks.TensorBoard(), \n",
    "    keras.callbacks.ReduceLROnPlateau(patience=5, factor=0.5),\n",
    "    keras.callbacks.EarlyStopping(monitor='val_accuracy', patience=15),\n",
    "    keras.callbacks.ModelCheckpoint(filepath='checkpoints/convmixer-256-4-{epoch}.h5', save_best_only=True, save_weights_only=True, monitor='val_accuracy'),\n",
    "    ]"
   ]
  },
  {
   "cell_type": "code",
   "execution_count": 8,
   "metadata": {},
   "outputs": [
    {
     "name": "stdout",
     "output_type": "stream",
     "text": [
      "Epoch 1/10\n",
      "400/400 [==============================] - 190s 381ms/step - loss: 1.4181 - accuracy: 0.4223 - val_loss: 1.5084 - val_accuracy: 0.3413 - lr: 0.0010\n",
      "Epoch 2/10\n",
      "400/400 [==============================] - 151s 378ms/step - loss: 1.2184 - accuracy: 0.5023 - val_loss: 1.4640 - val_accuracy: 0.4725 - lr: 0.0010\n",
      "Epoch 3/10\n",
      "400/400 [==============================] - 152s 379ms/step - loss: 1.1119 - accuracy: 0.5587 - val_loss: 1.4699 - val_accuracy: 0.5455 - lr: 0.0010\n",
      "Epoch 4/10\n",
      "400/400 [==============================] - 147s 368ms/step - loss: 1.0200 - accuracy: 0.5960 - val_loss: 1.7534 - val_accuracy: 0.4014 - lr: 0.0010\n",
      "Epoch 5/10\n",
      "400/400 [==============================] - 148s 371ms/step - loss: 0.9384 - accuracy: 0.6300 - val_loss: 1.0659 - val_accuracy: 0.6006 - lr: 0.0010\n",
      "Epoch 6/10\n",
      "400/400 [==============================] - 151s 376ms/step - loss: 0.8725 - accuracy: 0.6620 - val_loss: 1.2831 - val_accuracy: 0.5315 - lr: 0.0010\n",
      "Epoch 7/10\n",
      "400/400 [==============================] - 156s 390ms/step - loss: 0.8106 - accuracy: 0.6965 - val_loss: 1.0318 - val_accuracy: 0.6356 - lr: 0.0010\n",
      "Epoch 8/10\n",
      "400/400 [==============================] - 145s 361ms/step - loss: 0.7151 - accuracy: 0.7278 - val_loss: 0.9748 - val_accuracy: 0.6547 - lr: 0.0010\n",
      "Epoch 9/10\n",
      "400/400 [==============================] - 150s 376ms/step - loss: 0.6508 - accuracy: 0.7577 - val_loss: 1.0384 - val_accuracy: 0.5986 - lr: 0.0010\n",
      "Epoch 10/10\n",
      "400/400 [==============================] - 151s 378ms/step - loss: 0.6004 - accuracy: 0.7763 - val_loss: 0.8525 - val_accuracy: 0.6917 - lr: 0.0010\n"
     ]
    }
   ],
   "source": [
    "model.compile(\n",
    "    loss=keras.losses.CategoricalCrossentropy(), \n",
    "    optimizer=keras.optimizers.Adam(learning_rate=0.001), \n",
    "    metrics='accuracy',\n",
    "    )\n",
    "\n",
    "history = model.fit(train_data, epochs=10, batch_size=batch_size, validation_data=val_data, callbacks=callbacks, verbose='auto')"
   ]
  },
  {
   "cell_type": "code",
   "execution_count": 9,
   "metadata": {},
   "outputs": [
    {
     "data": {
      "text/plain": [
       "[Text(0.5, 0, 'Epoch'), Text(0, 0.5, 'loss')]"
      ]
     },
     "execution_count": 9,
     "metadata": {},
     "output_type": "execute_result"
    },
    {
     "data": {
      "image/png": "[encoded data removed]",
      "text/plain": [
       "<Figure size 640x480 with 1 Axes>"
      ]
     },
     "metadata": {},
     "output_type": "display_data"
    }
   ],
   "source": [
    "ax = sns.lineplot(data={'loss': history.history['loss'], 'val_loss': history.history['val_loss']})\n",
    "ax.set(xlabel='Epoch', ylabel='loss')"
   ]
  },
  {
   "cell_type": "code",
   "execution_count": 10,
   "metadata": {},
   "outputs": [
    {
     "data": {
      "text/plain": [
       "[Text(0.5, 0, 'epoch'), Text(0, 0.5, 'accuracy'), (0.0, 1.0)]"
      ]
     },
     "execution_count": 10,
     "metadata": {},
     "output_type": "execute_result"
    },
    {
     "data": {
      "image/png": "[encoded data removed]",
      "text/plain": [
       "<Figure size 640x480 with 1 Axes>"
      ]
     },
     "metadata": {},
     "output_type": "display_data"
    }
   ],
   "source": [
    "ax = sns.lineplot(data={'accuracy': history.history['accuracy'], 'val_accuracy': history.history['val_accuracy']})\n",
    "ax.set(xlabel='epoch', ylabel='accuracy', ylim=(0,1))"
   ]
  }
 ],
 "metadata": {
  "kernelspec": {
   "display_name": "Tensorflow 2.11 Env",
   "language": "python",
   "name": "tf_env"
  },
  "language_info": {
   "codemirror_mode": {
    "name": "ipython",
    "version": 3
   },
   "file_extension": ".py",
   "mimetype": "text/x-python",
   "name": "python",
   "nbconvert_exporter": "python",
   "pygments_lexer": "ipython3",
   "version": "3.8.10"
  },
  "orig_nbformat": 4
 },
 "nbformat": 4,
 "nbformat_minor": 2
}
