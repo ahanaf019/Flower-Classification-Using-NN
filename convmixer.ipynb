{
 "cells": [
  {
   "cell_type": "code",
   "execution_count": 1,
   "metadata": {},
   "outputs": [
    {
     "data": {
      "text/plain": [
       "[PhysicalDevice(name='/physical_device:GPU:0', device_type='GPU')]"
      ]
     },
     "execution_count": 1,
     "metadata": {},
     "output_type": "execute_result"
    }
   ],
   "source": [
    "import os\n",
    "os.environ['TF_CPP_MIN_LOG_LEVEL'] = '3' \n",
    "\n",
    "import tensorflow as tf\n",
    "from tensorflow import keras\n",
    "import cv2\n",
    "from glob import glob\n",
    "import numpy as np\n",
    "import pandas as pd\n",
    "import seaborn as sns\n",
    "import matplotlib.pyplot as plt\n",
    "\n",
    "tf.random.set_seed(122)\n",
    "tf.config.experimental.list_physical_devices('GPU')\n"
   ]
  },
  {
   "cell_type": "code",
   "execution_count": 2,
   "metadata": {},
   "outputs": [
    {
     "name": "stdout",
     "output_type": "stream",
     "text": [
      "Found 4999 files belonging to 5 classes.\n",
      "Using 4000 files for training.\n",
      "Using 999 files for validation.\n"
     ]
    }
   ],
   "source": [
    "input_shape = (256, 256, 3)\n",
    "image_shape = (256, 256)\n",
    "num_classes = 5\n",
    "batch_size = 10\n",
    "\n",
    "train_data, val_data = keras.utils.image_dataset_from_directory('flower_images', batch_size=batch_size, image_size=image_shape, label_mode='categorical', seed=225, validation_split= 0.2, subset='both')"
   ]
  },
  {
   "cell_type": "code",
   "execution_count": 3,
   "metadata": {},
   "outputs": [],
   "source": [
    "data_aug = keras.Sequential([\n",
    "    keras.layers.Rescaling(scale=1./127.5, offset=-1),\n",
    "    keras.layers.RandomFlip(),\n",
    "    keras.layers.RandomRotation(0.35)\n",
    "])"
   ]
  },
  {
   "cell_type": "code",
   "execution_count": 4,
   "metadata": {},
   "outputs": [
    {
     "name": "stdout",
     "output_type": "stream",
     "text": [
      "WARNING:tensorflow:Using a while_loop for converting RngReadAndSkip cause there is no registered converter for this op.\n",
      "WARNING:tensorflow:Using a while_loop for converting Bitcast cause there is no registered converter for this op.\n",
      "WARNING:tensorflow:Using a while_loop for converting Bitcast cause there is no registered converter for this op.\n",
      "WARNING:tensorflow:Using a while_loop for converting StatelessRandomUniformV2 cause there is no registered converter for this op.\n",
      "WARNING:tensorflow:Using a while_loop for converting ImageProjectiveTransformV3 cause there is no registered converter for this op.\n",
      "WARNING:tensorflow:Using a while_loop for converting RngReadAndSkip cause there is no registered converter for this op.\n",
      "WARNING:tensorflow:Using a while_loop for converting Bitcast cause there is no registered converter for this op.\n",
      "WARNING:tensorflow:Using a while_loop for converting Bitcast cause there is no registered converter for this op.\n",
      "WARNING:tensorflow:Using a while_loop for converting StatelessRandomUniformV2 cause there is no registered converter for this op.\n",
      "WARNING:tensorflow:Using a while_loop for converting ImageProjectiveTransformV3 cause there is no registered converter for this op.\n",
      "Model: \"model\"\n",
      "__________________________________________________________________________________________________\n",
      " Layer (type)                   Output Shape         Param #     Connected to                     \n",
      "==================================================================================================\n",
      " input_2 (InputLayer)           [(None, 256, 256, 3  0           []                               \n",
      "                                )]                                                                \n",
      "                                                                                                  \n",
      " conv2d (Conv2D)                (None, 36, 36, 256)  37888       ['input_2[0][0]']                \n",
      "                                                                                                  \n",
      " batch_normalization (BatchNorm  (None, 36, 36, 256)  1024       ['conv2d[1][0]']                 \n",
      " alization)                                                                                       \n",
      "                                                                                                  \n",
      " conv2d_1 (Conv2D)              (None, 36, 36, 256)  20992       ['batch_normalization[1][0]']    \n",
      "                                                                                                  \n",
      " batch_normalization_1 (BatchNo  (None, 36, 36, 256)  1024       ['conv2d_1[1][0]']               \n",
      " rmalization)                                                                                     \n",
      "                                                                                                  \n",
      " add (Add)                      (None, 36, 36, 256)  0           ['batch_normalization[1][0]',    \n",
      "                                                                  'batch_normalization_1[1][0]']  \n",
      "                                                                                                  \n",
      " conv2d_2 (Conv2D)              (None, 36, 36, 256)  65792       ['add[1][0]']                    \n",
      "                                                                                                  \n",
      " batch_normalization_2 (BatchNo  (None, 36, 36, 256)  1024       ['conv2d_2[1][0]']               \n",
      " rmalization)                                                                                     \n",
      "                                                                                                  \n",
      " conv2d_3 (Conv2D)              (None, 36, 36, 256)  20992       ['batch_normalization_2[1][0]']  \n",
      "                                                                                                  \n",
      " batch_normalization_3 (BatchNo  (None, 36, 36, 256)  1024       ['conv2d_3[1][0]']               \n",
      " rmalization)                                                                                     \n",
      "                                                                                                  \n",
      " add_1 (Add)                    (None, 36, 36, 256)  0           ['batch_normalization_2[1][0]',  \n",
      "                                                                  'batch_normalization_3[1][0]']  \n",
      "                                                                                                  \n",
      " conv2d_4 (Conv2D)              (None, 36, 36, 256)  65792       ['add_1[1][0]']                  \n",
      "                                                                                                  \n",
      " batch_normalization_4 (BatchNo  (None, 36, 36, 256)  1024       ['conv2d_4[1][0]']               \n",
      " rmalization)                                                                                     \n",
      "                                                                                                  \n",
      " conv2d_5 (Conv2D)              (None, 36, 36, 256)  20992       ['batch_normalization_4[1][0]']  \n",
      "                                                                                                  \n",
      " batch_normalization_5 (BatchNo  (None, 36, 36, 256)  1024       ['conv2d_5[1][0]']               \n",
      " rmalization)                                                                                     \n",
      "                                                                                                  \n",
      " add_2 (Add)                    (None, 36, 36, 256)  0           ['batch_normalization_4[1][0]',  \n",
      "                                                                  'batch_normalization_5[1][0]']  \n",
      "                                                                                                  \n",
      " conv2d_6 (Conv2D)              (None, 36, 36, 256)  65792       ['add_2[1][0]']                  \n",
      "                                                                                                  \n",
      " batch_normalization_6 (BatchNo  (None, 36, 36, 256)  1024       ['conv2d_6[1][0]']               \n",
      " rmalization)                                                                                     \n",
      "                                                                                                  \n",
      " conv2d_7 (Conv2D)              (None, 36, 36, 256)  20992       ['batch_normalization_6[1][0]']  \n",
      "                                                                                                  \n",
      " batch_normalization_7 (BatchNo  (None, 36, 36, 256)  1024       ['conv2d_7[1][0]']               \n",
      " rmalization)                                                                                     \n",
      "                                                                                                  \n",
      " add_3 (Add)                    (None, 36, 36, 256)  0           ['batch_normalization_6[1][0]',  \n",
      "                                                                  'batch_normalization_7[1][0]']  \n",
      "                                                                                                  \n",
      " conv2d_8 (Conv2D)              (None, 36, 36, 256)  65792       ['add_3[1][0]']                  \n",
      "                                                                                                  \n",
      " batch_normalization_8 (BatchNo  (None, 36, 36, 256)  1024       ['conv2d_8[1][0]']               \n",
      " rmalization)                                                                                     \n",
      "                                                                                                  \n",
      " average_pooling2d (AveragePool  (None, 36, 36, 256)  0          ['batch_normalization_8[1][0]']  \n",
      " ing2D)                                                                                           \n",
      "                                                                                                  \n",
      " flatten (Flatten)              (None, 331776)       0           ['average_pooling2d[1][0]']      \n",
      "                                                                                                  \n",
      " dropout (Dropout)              (None, 331776)       0           ['flatten[1][0]']                \n",
      "                                                                                                  \n",
      " dense (Dense)                  (None, 5)            1658885     ['dropout[1][0]']                \n",
      "                                                                                                  \n",
      "==================================================================================================\n",
      "Total params: 2,053,125\n",
      "Trainable params: 2,048,517\n",
      "Non-trainable params: 4,608\n",
      "__________________________________________________________________________________________________\n"
     ]
    }
   ],
   "source": [
    "def ConvMixer(dim: int, patch_size: int, depth: int, kernel_size: int, num_classes: int):\n",
    "    input = keras.Input(shape=input_shape)\n",
    "    \n",
    "    input = data_aug(input)\n",
    "    \n",
    "    x = keras.layers.Conv2D(filters=dim, kernel_size=patch_size, strides=patch_size, activation='gelu')(input)\n",
    "    x1 = keras.layers.BatchNormalization()(x)\n",
    "    \n",
    "    for i in range(depth):\n",
    "        x = keras.layers.Conv2D(filters=dim, kernel_size=kernel_size, padding='same', groups=dim, activation='gelu')(x1)\n",
    "        x = keras.layers.BatchNormalization()(x)\n",
    "        x = keras.layers.add([x1, x])\n",
    "        \n",
    "        x = keras.layers.Conv2D(filters=dim, kernel_size=1, activation='gelu')(x)\n",
    "        \n",
    "        x1 = keras.layers.BatchNormalization()(x)\n",
    "    \n",
    "    x = keras.layers.AveragePooling2D(pool_size=(1, 1))(x1)\n",
    "    x = keras.layers.Flatten()(x)\n",
    "    x = keras.layers.Dropout(0.2)(x)\n",
    "    output = keras.layers.Dense(units=num_classes, activation='softmax')(x)\n",
    "    \n",
    "    \n",
    "    return keras.Model(input, output)\n",
    "\n",
    "\n",
    "\n",
    "model = ConvMixer(dim=256, patch_size=7, kernel_size=9, depth=4, num_classes=5)\n",
    "model.summary()\n"
   ]
  },
  {
   "cell_type": "code",
   "execution_count": 5,
   "metadata": {},
   "outputs": [],
   "source": [
    "callbacks = [\n",
    "    keras.callbacks.TensorBoard(), \n",
    "    keras.callbacks.ReduceLROnPlateau(patience=5, factor=0.1),\n",
    "    keras.callbacks.EarlyStopping(monitor='val_accuracy', patience=15),\n",
    "    keras.callbacks.ModelCheckpoint(filepath='checkpoints/convmixer-256-4-{epoch}.h5', save_best_only=True, save_weights_only=True, monitor='val_accuracy'),\n",
    "    ]"
   ]
  },
  {
   "cell_type": "code",
   "execution_count": null,
   "metadata": {},
   "outputs": [],
   "source": [
    "model.compile(\n",
    "    loss=keras.losses.CategoricalCrossentropy(), \n",
    "    optimizer=keras.optimizers.Adam(learning_rate=0.001), \n",
    "    metrics='accuracy',\n",
    "    )\n",
    "\n",
    "history = model.fit(train_data, epochs=50, batch_size=batch_size, validation_data=val_data, callbacks=callbacks, verbose='auto')"
   ]
  },
  {
   "cell_type": "code",
   "execution_count": null,
   "metadata": {},
   "outputs": [],
   "source": [
    "ax = sns.lineplot(data={'loss': history.history['loss'], 'val_loss': history.history['val_loss']})\n",
    "ax.set(xlabel='Epoch', ylabel='loss')"
   ]
  },
  {
   "cell_type": "code",
   "execution_count": null,
   "metadata": {},
   "outputs": [],
   "source": [
    "ax = sns.lineplot(data={'accuracy': history.history['accuracy'], 'val_accuracy': history.history['val_accuracy']})\n",
    "ax.set(xlabel='epoch', ylabel='accuracy', ylim=(0,1))"
   ]
  }
 ],
 "metadata": {
  "kernelspec": {
   "display_name": "Tensorflow 2.11 Env",
   "language": "python",
   "name": "tf_env"
  },
  "language_info": {
   "codemirror_mode": {
    "name": "ipython",
    "version": 3
   },
   "file_extension": ".py",
   "mimetype": "text/x-python",
   "name": "python",
   "nbconvert_exporter": "python",
   "pygments_lexer": "ipython3",
   "version": "3.8.10"
  },
  "orig_nbformat": 4
 },
 "nbformat": 4,
 "nbformat_minor": 2
}
